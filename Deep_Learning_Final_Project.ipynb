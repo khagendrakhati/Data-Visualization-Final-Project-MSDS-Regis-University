{
  "cells": [
    {
      "cell_type": "markdown",
      "metadata": {
        "id": "view-in-github",
        "colab_type": "text"
      },
      "source": [
        "<a href=\"https://colab.research.google.com/github/khagendrakhati/Data-Visualization-Final-Project-MSDS-Regis-University/blob/main/Deep_Learning_Final_Project.ipynb\" target=\"_parent\"><img src=\"https://colab.research.google.com/assets/colab-badge.svg\" alt=\"Open In Colab\"/></a>"
      ]
    },
    {
      "cell_type": "code",
      "execution_count": null,
      "metadata": {
        "colab": {
          "base_uri": "https://localhost:8080/",
          "height": 17
        },
        "id": "F93yewC2yn6i",
        "outputId": "90a46046-791b-4818-cd81-eea54358cc41"
      },
      "outputs": [
        {
          "data": {
            "text/html": [
              "<style>.container { width:95% !important; }</style>"
            ],
            "text/plain": [
              "<IPython.core.display.HTML object>"
            ]
          },
          "metadata": {},
          "output_type": "display_data"
        }
      ],
      "source": [
        "from IPython.core.display import display, HTML\n",
        "display(HTML(\"<style>.container { width:95% !important; }</style>\"))"
      ]
    },
    {
      "cell_type": "code",
      "execution_count": null,
      "metadata": {
        "id": "009v9Ja6GtwE"
      },
      "outputs": [],
      "source": [
        "from tensorflow.keras import backend as K\n",
        "from tensorflow.keras import backend\n",
        "from tensorflow.keras import models\n",
        "from tensorflow.keras import layers\n",
        "from tensorflow.keras import optimizers\n",
        "from tensorflow.keras.utils import to_categorical\n",
        "from keras.layers import Conv2D, Flatten, Dense, MaxPooling2D, Dropout\n",
        "import numpy as np\n",
        "import tensorflow as tf\n",
        "from keras.models import Sequential\n",
        "import cv2\n",
        "import matplotlib.pyplot as plt\n",
        "from tensorflow.keras.callbacks import EarlyStopping\n",
        "from keras.layers import BatchNormalization\n",
        "from sklearn.model_selection import train_test_split\n",
        "from PIL import Image # Library to help view images\n",
        "from tensorflow.keras.preprocessing import image\n",
        "from sklearn.utils import shuffle\n",
        "import os, shutil # Library for navigating files\n",
        "from google.colab import drive # Library to mount google drives\n",
        "np.random.seed(1)"
      ]
    },
    {
      "cell_type": "code",
      "execution_count": null,
      "metadata": {
        "colab": {
          "base_uri": "https://localhost:8080/"
        },
        "id": "UwJ27g_xGyNA",
        "outputId": "2cff4701-80e1-4b82-dccb-850ccbbb7cb9"
      },
      "outputs": [
        {
          "name": "stdout",
          "output_type": "stream",
          "text": [
            "Mounted at /content/gdrive\n"
          ]
        }
      ],
      "source": [
        "drive.mount('/content/gdrive')"
      ]
    },
    {
      "cell_type": "code",
      "execution_count": null,
      "metadata": {
        "id": "M1nOraAvG7la"
      },
      "outputs": [],
      "source": [
        "# Specify the base directory where images are located.  You need to access your data here.\n",
        "base_dir = '/content/gdrive/My Drive/brainTumor'"
      ]
    },
    {
      "cell_type": "code",
      "execution_count": null,
      "metadata": {
        "id": "YmLdfoUgY2wM"
      },
      "outputs": [],
      "source": [
        "X_train = []\n",
        "y_train = []\n",
        "image_size = 150"
      ]
    },
    {
      "cell_type": "code",
      "execution_count": null,
      "metadata": {
        "colab": {
          "base_uri": "https://localhost:8080/"
        },
        "id": "wn3eHnZ-Y7jx",
        "outputId": "4019e761-9030-4dd5-cadf-c36dc3adc249"
      },
      "outputs": [
        {
          "name": "stdout",
          "output_type": "stream",
          "text": [
            "['meningioma_tumor', 'pituitary_tumor', 'no_tumor', 'glioma_tumor']\n"
          ]
        }
      ],
      "source": [
        "train_path = '/content/gdrive/My Drive/brainTumor/Training'\n",
        "labels = os.listdir(train_path)\n",
        "print(labels)"
      ]
    },
    {
      "cell_type": "code",
      "execution_count": null,
      "metadata": {
        "id": "oqM8wGnXZn1D"
      },
      "outputs": [],
      "source": [
        "for i in labels:\n",
        "    folder_path = os.path.join(train_path, i)\n",
        "    for j in os.listdir(folder_path):\n",
        "        img = cv2.imread(os.path.join(folder_path, j))\n",
        "        img = cv2.resize(img, (image_size, image_size))\n",
        "        \n",
        "        X_train.append(img)\n",
        "        y_train.append(i)"
      ]
    },
    {
      "cell_type": "code",
      "execution_count": null,
      "metadata": {
        "id": "slVjyPZBbSL4"
      },
      "outputs": [],
      "source": [
        "test_path = '/content/gdrive/My Drive/brainTumor/Testing'"
      ]
    },
    {
      "cell_type": "code",
      "execution_count": null,
      "metadata": {
        "id": "dAye3AMtbcNY"
      },
      "outputs": [],
      "source": [
        "for i in labels:\n",
        "    folder_path = os.path.join(test_path, i)\n",
        "    for j in os.listdir(folder_path):\n",
        "        img = cv2.imread(os.path.join(folder_path, j))\n",
        "        img = cv2.resize(img, (image_size, image_size))\n",
        "        \n",
        "        X_train.append(img)\n",
        "        y_train.append(i)"
      ]
    },
    {
      "cell_type": "code",
      "execution_count": null,
      "metadata": {
        "colab": {
          "base_uri": "https://localhost:8080/"
        },
        "id": "N1r105T8bpDz",
        "outputId": "9bde845e-48bd-48c5-f089-473a3e39c8c5"
      },
      "outputs": [
        {
          "data": {
            "text/plain": [
              "array([[[0, 0, 0],\n",
              "        [0, 0, 0],\n",
              "        [0, 0, 0],\n",
              "        ...,\n",
              "        [0, 0, 0],\n",
              "        [0, 0, 0],\n",
              "        [0, 0, 0]],\n",
              "\n",
              "       [[0, 0, 0],\n",
              "        [0, 0, 0],\n",
              "        [0, 0, 0],\n",
              "        ...,\n",
              "        [0, 0, 0],\n",
              "        [0, 0, 0],\n",
              "        [0, 0, 0]],\n",
              "\n",
              "       [[0, 0, 0],\n",
              "        [0, 0, 0],\n",
              "        [0, 0, 0],\n",
              "        ...,\n",
              "        [0, 0, 0],\n",
              "        [0, 0, 0],\n",
              "        [0, 0, 0]],\n",
              "\n",
              "       ...,\n",
              "\n",
              "       [[0, 0, 0],\n",
              "        [0, 0, 0],\n",
              "        [0, 0, 0],\n",
              "        ...,\n",
              "        [0, 0, 0],\n",
              "        [0, 0, 0],\n",
              "        [0, 0, 0]],\n",
              "\n",
              "       [[0, 0, 0],\n",
              "        [0, 0, 0],\n",
              "        [0, 0, 0],\n",
              "        ...,\n",
              "        [0, 0, 0],\n",
              "        [0, 0, 0],\n",
              "        [0, 0, 0]],\n",
              "\n",
              "       [[0, 0, 0],\n",
              "        [0, 0, 0],\n",
              "        [0, 0, 0],\n",
              "        ...,\n",
              "        [0, 0, 0],\n",
              "        [0, 0, 0],\n",
              "        [0, 0, 0]]], dtype=uint8)"
            ]
          },
          "execution_count": 9,
          "metadata": {},
          "output_type": "execute_result"
        }
      ],
      "source": [
        "X_train[1]"
      ]
    },
    {
      "cell_type": "code",
      "execution_count": null,
      "metadata": {
        "colab": {
          "base_uri": "https://localhost:8080/",
          "height": 35
        },
        "id": "afm-nbgzbu0K",
        "outputId": "0f780e17-9b8b-4d7e-df6e-1557c4a0bb04"
      },
      "outputs": [
        {
          "data": {
            "application/vnd.google.colaboratory.intrinsic+json": {
              "type": "string"
            },
            "text/plain": [
              "'meningioma_tumor'"
            ]
          },
          "execution_count": 10,
          "metadata": {},
          "output_type": "execute_result"
        }
      ],
      "source": [
        "y_train[1]"
      ]
    },
    {
      "cell_type": "code",
      "execution_count": null,
      "metadata": {
        "colab": {
          "base_uri": "https://localhost:8080/"
        },
        "id": "kxAa436Jby0i",
        "outputId": "33557756-5a66-4c2f-c249-451a019c3ebb"
      },
      "outputs": [
        {
          "data": {
            "text/plain": [
              "(2870, 2870)"
            ]
          },
          "execution_count": 11,
          "metadata": {},
          "output_type": "execute_result"
        }
      ],
      "source": [
        "# X_train.shape, y_train.shape\n",
        "len(X_train), len(y_train)"
      ]
    },
    {
      "cell_type": "code",
      "execution_count": null,
      "metadata": {
        "id": "pP50ZsFTcBA7"
      },
      "outputs": [],
      "source": [
        "X_train = np.array(X_train)\n",
        "y_train = np.array(y_train)"
      ]
    },
    {
      "cell_type": "code",
      "execution_count": null,
      "metadata": {
        "colab": {
          "base_uri": "https://localhost:8080/"
        },
        "id": "gwXHuBgecEJG",
        "outputId": "45ae3263-4a8b-4215-c863-4c221d18a689"
      },
      "outputs": [
        {
          "data": {
            "text/plain": [
              "((2870, 150, 150, 3), (2870,))"
            ]
          },
          "execution_count": 13,
          "metadata": {},
          "output_type": "execute_result"
        }
      ],
      "source": [
        "X_train.shape, y_train.shape"
      ]
    },
    {
      "cell_type": "code",
      "execution_count": null,
      "metadata": {
        "colab": {
          "base_uri": "https://localhost:8080/"
        },
        "id": "JV0hsdVIcHgq",
        "outputId": "8ecb425b-2bcc-473f-f10d-0235892cbfe6"
      },
      "outputs": [
        {
          "data": {
            "text/plain": [
              "array([[[0, 0, 0],\n",
              "        [0, 0, 0],\n",
              "        [0, 0, 0],\n",
              "        ...,\n",
              "        [0, 0, 0],\n",
              "        [0, 0, 0],\n",
              "        [0, 0, 0]],\n",
              "\n",
              "       [[0, 0, 0],\n",
              "        [0, 0, 0],\n",
              "        [0, 0, 0],\n",
              "        ...,\n",
              "        [0, 0, 0],\n",
              "        [0, 0, 0],\n",
              "        [0, 0, 0]],\n",
              "\n",
              "       [[0, 0, 0],\n",
              "        [0, 0, 0],\n",
              "        [0, 0, 0],\n",
              "        ...,\n",
              "        [0, 0, 0],\n",
              "        [0, 0, 0],\n",
              "        [0, 0, 0]],\n",
              "\n",
              "       ...,\n",
              "\n",
              "       [[0, 0, 0],\n",
              "        [0, 0, 0],\n",
              "        [0, 0, 0],\n",
              "        ...,\n",
              "        [0, 0, 0],\n",
              "        [0, 0, 0],\n",
              "        [0, 0, 0]],\n",
              "\n",
              "       [[0, 0, 0],\n",
              "        [0, 0, 0],\n",
              "        [0, 0, 0],\n",
              "        ...,\n",
              "        [0, 0, 0],\n",
              "        [0, 0, 0],\n",
              "        [0, 0, 0]],\n",
              "\n",
              "       [[0, 0, 0],\n",
              "        [0, 0, 0],\n",
              "        [0, 0, 0],\n",
              "        ...,\n",
              "        [0, 0, 0],\n",
              "        [0, 0, 0],\n",
              "        [0, 0, 0]]], dtype=uint8)"
            ]
          },
          "execution_count": 14,
          "metadata": {},
          "output_type": "execute_result"
        }
      ],
      "source": [
        "X_train[1]"
      ]
    },
    {
      "cell_type": "code",
      "execution_count": null,
      "metadata": {
        "colab": {
          "base_uri": "https://localhost:8080/",
          "height": 35
        },
        "id": "cY_zC4egcLDd",
        "outputId": "6f43cddd-0d54-4cca-bc5b-ad173ea1bfa7"
      },
      "outputs": [
        {
          "data": {
            "application/vnd.google.colaboratory.intrinsic+json": {
              "type": "string"
            },
            "text/plain": [
              "'meningioma_tumor'"
            ]
          },
          "execution_count": 15,
          "metadata": {},
          "output_type": "execute_result"
        }
      ],
      "source": [
        "y_train[1]"
      ]
    },
    {
      "cell_type": "code",
      "execution_count": null,
      "metadata": {
        "colab": {
          "base_uri": "https://localhost:8080/"
        },
        "id": "CiMfa5xicOpo",
        "outputId": "90d7d0a2-c25e-4d10-8763-eb8aa9219a7f"
      },
      "outputs": [
        {
          "data": {
            "text/plain": [
              "((2870, 150, 150, 3), (2870,))"
            ]
          },
          "execution_count": 16,
          "metadata": {},
          "output_type": "execute_result"
        }
      ],
      "source": [
        "X_train, y_train = shuffle(X_train, y_train, random_state = 99)\n",
        "X_train.shape, y_train.shape"
      ]
    },
    {
      "cell_type": "code",
      "execution_count": null,
      "metadata": {
        "id": "Qh583lkRcXq2"
      },
      "outputs": [],
      "source": [
        "X_train, X_test, y_train, y_test = train_test_split(X_train, y_train, test_size = 0.1, random_state = 100)"
      ]
    },
    {
      "cell_type": "code",
      "execution_count": null,
      "metadata": {
        "colab": {
          "base_uri": "https://localhost:8080/"
        },
        "id": "ULOLM6-0ctRf",
        "outputId": "3691bad3-8fcc-4def-b514-506848167afe"
      },
      "outputs": [
        {
          "data": {
            "text/plain": [
              "array(['pituitary_tumor', 'glioma_tumor', 'pituitary_tumor',\n",
              "       'glioma_tumor', 'pituitary_tumor'], dtype='<U16')"
            ]
          },
          "execution_count": 18,
          "metadata": {},
          "output_type": "execute_result"
        }
      ],
      "source": [
        "y_train[:5]"
      ]
    },
    {
      "cell_type": "code",
      "execution_count": null,
      "metadata": {
        "colab": {
          "base_uri": "https://localhost:8080/"
        },
        "id": "pomSaq5lcx33",
        "outputId": "f694b864-e64d-4eee-df9a-128d91d3c437"
      },
      "outputs": [
        {
          "data": {
            "text/plain": [
              "[1, 3, 1, 3, 1]"
            ]
          },
          "execution_count": 19,
          "metadata": {},
          "output_type": "execute_result"
        }
      ],
      "source": [
        "y_train_new = []\n",
        "for i in y_train:\n",
        "    y_train_new.append(labels.index(i))\n",
        "\n",
        "y_train_new[:5]"
      ]
    },
    {
      "cell_type": "code",
      "execution_count": null,
      "metadata": {
        "colab": {
          "base_uri": "https://localhost:8080/"
        },
        "id": "ghMcCpFqc0sG",
        "outputId": "6b34f0f0-d237-431a-c81a-9b4d45d64fdb"
      },
      "outputs": [
        {
          "data": {
            "text/plain": [
              "array([[0., 1., 0., 0.],\n",
              "       [0., 0., 0., 1.],\n",
              "       [0., 1., 0., 0.],\n",
              "       ...,\n",
              "       [1., 0., 0., 0.],\n",
              "       [0., 0., 0., 1.],\n",
              "       [0., 0., 0., 1.]], dtype=float32)"
            ]
          },
          "execution_count": 20,
          "metadata": {},
          "output_type": "execute_result"
        }
      ],
      "source": [
        "y_train_new = tf.keras.utils.to_categorical(y_train_new)\n",
        "y_train_new"
      ]
    },
    {
      "cell_type": "code",
      "execution_count": null,
      "metadata": {
        "colab": {
          "base_uri": "https://localhost:8080/"
        },
        "id": "jE3EyP7RdB55",
        "outputId": "55cb1c32-bd2e-4dcd-f949-628c31b78f2a"
      },
      "outputs": [
        {
          "data": {
            "text/plain": [
              "array([[0., 0., 0., 1.],\n",
              "       [1., 0., 0., 0.],\n",
              "       [1., 0., 0., 0.],\n",
              "       ...,\n",
              "       [1., 0., 0., 0.],\n",
              "       [0., 1., 0., 0.],\n",
              "       [1., 0., 0., 0.]], dtype=float32)"
            ]
          },
          "execution_count": 21,
          "metadata": {},
          "output_type": "execute_result"
        }
      ],
      "source": [
        "y_test_new = []\n",
        "for i in y_test:\n",
        "    y_test_new.append(labels.index(i))\n",
        "\n",
        "y_test_new = tf.keras.utils.to_categorical(y_test_new)\n",
        "y_test_new"
      ]
    },
    {
      "cell_type": "code",
      "execution_count": null,
      "metadata": {
        "id": "PABt5a9OdJ4r"
      },
      "outputs": [],
      "source": [
        "model = Sequential()\n",
        "model.add(Conv2D(32, (3,3), activation = 'relu', input_shape = (image_size, image_size, 3)))\n",
        "model.add(Conv2D(64, (3,3), activation = 'relu'))\n",
        "model.add(MaxPooling2D(2,2))\n",
        "model.add(BatchNormalization())\n",
        "model.add(Dropout(0.3))\n",
        "\n",
        "model.add(Conv2D(128, (3,3), activation = 'relu'))\n",
        "model.add(Conv2D(128, (3,3), activation = 'relu'))\n",
        "model.add(Dropout(0.3))\n",
        "model.add(MaxPooling2D(2,2))\n",
        "model.add(BatchNormalization())\n",
        "model.add(Dropout(0.3))\n",
        "\n",
        "model.add(Conv2D(128, (3,3), activation = 'relu'))\n",
        "model.add(Conv2D(128, (3,3), activation = 'relu'))\n",
        "model.add(Conv2D(128, (3,3), activation = 'relu'))\n",
        "model.add(MaxPooling2D(2,2))\n",
        "model.add(Dropout(0.3))\n",
        "\n",
        "model.add(Conv2D(512, (3,3), activation = 'relu'))\n",
        "model.add(Conv2D(512, (3,3), activation = 'relu'))\n",
        "model.add(MaxPooling2D(2,2))\n",
        "model.add(Dropout(0.3))\n",
        "\n",
        "model.add(Flatten())\n",
        "\n",
        "model.add(Dense(512, activation = 'relu'))\n",
        "model.add(Dense(512, activation = 'relu'))\n",
        "model.add(Dropout(0.3))\n",
        "\n",
        "model.add(Dense(4, activation = 'softmax'))"
      ]
    },
    {
      "cell_type": "code",
      "execution_count": null,
      "metadata": {
        "colab": {
          "base_uri": "https://localhost:8080/"
        },
        "id": "gwOAlNwpdjNY",
        "outputId": "331b2f34-5a50-45f2-f3ef-dfef7decfdc4"
      },
      "outputs": [
        {
          "name": "stdout",
          "output_type": "stream",
          "text": [
            "Model: \"sequential_1\"\n",
            "_________________________________________________________________\n",
            " Layer (type)                Output Shape              Param #   \n",
            "=================================================================\n",
            " conv2d_2 (Conv2D)           (None, 148, 148, 32)      896       \n",
            "                                                                 \n",
            " conv2d_3 (Conv2D)           (None, 146, 146, 64)      18496     \n",
            "                                                                 \n",
            " max_pooling2d_1 (MaxPooling  (None, 73, 73, 64)       0         \n",
            " 2D)                                                             \n",
            "                                                                 \n",
            " batch_normalization (BatchN  (None, 73, 73, 64)       256       \n",
            " ormalization)                                                   \n",
            "                                                                 \n",
            " dropout (Dropout)           (None, 73, 73, 64)        0         \n",
            "                                                                 \n",
            " conv2d_4 (Conv2D)           (None, 71, 71, 128)       73856     \n",
            "                                                                 \n",
            " conv2d_5 (Conv2D)           (None, 69, 69, 128)       147584    \n",
            "                                                                 \n",
            " dropout_1 (Dropout)         (None, 69, 69, 128)       0         \n",
            "                                                                 \n",
            " max_pooling2d_2 (MaxPooling  (None, 34, 34, 128)      0         \n",
            " 2D)                                                             \n",
            "                                                                 \n",
            " batch_normalization_1 (Batc  (None, 34, 34, 128)      512       \n",
            " hNormalization)                                                 \n",
            "                                                                 \n",
            " dropout_2 (Dropout)         (None, 34, 34, 128)       0         \n",
            "                                                                 \n",
            " conv2d_6 (Conv2D)           (None, 32, 32, 128)       147584    \n",
            "                                                                 \n",
            " conv2d_7 (Conv2D)           (None, 30, 30, 128)       147584    \n",
            "                                                                 \n",
            " conv2d_8 (Conv2D)           (None, 28, 28, 128)       147584    \n",
            "                                                                 \n",
            " max_pooling2d_3 (MaxPooling  (None, 14, 14, 128)      0         \n",
            " 2D)                                                             \n",
            "                                                                 \n",
            " dropout_3 (Dropout)         (None, 14, 14, 128)       0         \n",
            "                                                                 \n",
            " conv2d_9 (Conv2D)           (None, 12, 12, 512)       590336    \n",
            "                                                                 \n",
            " conv2d_10 (Conv2D)          (None, 10, 10, 512)       2359808   \n",
            "                                                                 \n",
            " max_pooling2d_4 (MaxPooling  (None, 5, 5, 512)        0         \n",
            " 2D)                                                             \n",
            "                                                                 \n",
            " dropout_4 (Dropout)         (None, 5, 5, 512)         0         \n",
            "                                                                 \n",
            " flatten (Flatten)           (None, 12800)             0         \n",
            "                                                                 \n",
            " dense (Dense)               (None, 512)               6554112   \n",
            "                                                                 \n",
            " dense_1 (Dense)             (None, 512)               262656    \n",
            "                                                                 \n",
            " dropout_5 (Dropout)         (None, 512)               0         \n",
            "                                                                 \n",
            " dense_2 (Dense)             (None, 4)                 2052      \n",
            "                                                                 \n",
            "=================================================================\n",
            "Total params: 10,453,316\n",
            "Trainable params: 10,452,932\n",
            "Non-trainable params: 384\n",
            "_________________________________________________________________\n"
          ]
        }
      ],
      "source": [
        "model.summary()"
      ]
    },
    {
      "cell_type": "code",
      "execution_count": null,
      "metadata": {
        "id": "RrNyqc-Hdnp9"
      },
      "outputs": [],
      "source": [
        "model.compile(\n",
        "    loss = 'categorical_crossentropy',\n",
        "    optimizer = 'Adam',\n",
        "    metrics = ['accuracy']\n",
        ")"
      ]
    },
    {
      "cell_type": "code",
      "execution_count": null,
      "metadata": {
        "colab": {
          "background_save": true,
          "base_uri": "https://localhost:8080/"
        },
        "id": "LbrUSsutdt-B",
        "outputId": "cd3c6250-0aaf-41a7-eac5-2066110173ae"
      },
      "outputs": [
        {
          "name": "stdout",
          "output_type": "stream",
          "text": [
            "Epoch 1/20\n",
            "73/73 [==============================] - 772s 11s/step - loss: 1.4091 - accuracy: 0.4256 - val_loss: 1.9527 - val_accuracy: 0.1351\n",
            "Epoch 2/20\n",
            "73/73 [==============================] - 779s 11s/step - loss: 0.8915 - accuracy: 0.6235 - val_loss: 1.4772 - val_accuracy: 0.1699\n",
            "Epoch 3/20\n",
            "73/73 [==============================] - 774s 11s/step - loss: 0.7406 - accuracy: 0.6846 - val_loss: 0.7680 - val_accuracy: 0.6873\n",
            "Epoch 4/20\n",
            "73/73 [==============================] - 767s 11s/step - loss: 0.6250 - accuracy: 0.7500 - val_loss: 1.2358 - val_accuracy: 0.4170\n",
            "Epoch 5/20\n",
            "73/73 [==============================] - 778s 11s/step - loss: 0.5599 - accuracy: 0.7681 - val_loss: 0.6772 - val_accuracy: 0.7181\n",
            "Epoch 6/20\n",
            "73/73 [==============================] - 780s 11s/step - loss: 0.4229 - accuracy: 0.8296 - val_loss: 0.7940 - val_accuracy: 0.6988\n",
            "Epoch 7/20\n",
            "73/73 [==============================] - 775s 11s/step - loss: 0.3948 - accuracy: 0.8438 - val_loss: 0.4790 - val_accuracy: 0.8301\n",
            "Epoch 8/20\n",
            "73/73 [==============================] - 764s 10s/step - loss: 0.3082 - accuracy: 0.8868 - val_loss: 0.4966 - val_accuracy: 0.8378\n",
            "Epoch 9/20\n",
            "73/73 [==============================] - 763s 10s/step - loss: 0.2494 - accuracy: 0.9062 - val_loss: 0.4125 - val_accuracy: 0.8571\n",
            "Epoch 10/20\n",
            "73/73 [==============================] - 759s 10s/step - loss: 0.2646 - accuracy: 0.9079 - val_loss: 0.4054 - val_accuracy: 0.8533\n",
            "Epoch 11/20\n",
            "73/73 [==============================] - 758s 10s/step - loss: 0.2089 - accuracy: 0.9273 - val_loss: 0.4403 - val_accuracy: 0.8571\n",
            "Epoch 12/20\n",
            "73/73 [==============================] - 763s 10s/step - loss: 0.1889 - accuracy: 0.9277 - val_loss: 0.4670 - val_accuracy: 0.8687\n",
            "Epoch 13/20\n",
            "73/73 [==============================] - 763s 10s/step - loss: 0.1749 - accuracy: 0.9406 - val_loss: 0.4047 - val_accuracy: 0.8764\n",
            "Epoch 14/20\n",
            "73/73 [==============================] - 766s 10s/step - loss: 0.1489 - accuracy: 0.9522 - val_loss: 0.4511 - val_accuracy: 0.8494\n",
            "Epoch 15/20\n",
            "73/73 [==============================] - 760s 10s/step - loss: 0.1495 - accuracy: 0.9548 - val_loss: 0.3913 - val_accuracy: 0.8687\n",
            "Epoch 16/20\n",
            "73/73 [==============================] - 757s 10s/step - loss: 0.1231 - accuracy: 0.9583 - val_loss: 0.4489 - val_accuracy: 0.8649\n",
            "Epoch 17/20\n",
            "73/73 [==============================] - 754s 10s/step - loss: 0.1557 - accuracy: 0.9488 - val_loss: 0.4151 - val_accuracy: 0.8687\n",
            "Epoch 18/20\n",
            "73/73 [==============================] - 748s 10s/step - loss: 0.1140 - accuracy: 0.9621 - val_loss: 0.3341 - val_accuracy: 0.8842\n",
            "Epoch 19/20\n",
            "73/73 [==============================] - 752s 10s/step - loss: 0.1090 - accuracy: 0.9578 - val_loss: 0.3550 - val_accuracy: 0.9112\n",
            "Epoch 20/20\n",
            "73/73 [==============================] - 756s 10s/step - loss: 0.1353 - accuracy: 0.9522 - val_loss: 0.2170 - val_accuracy: 0.9228\n"
          ]
        }
      ],
      "source": [
        "hist = model.fit(X_train, y_train_new, epochs = 20, validation_split = 0.1)"
      ]
    },
    {
      "cell_type": "code",
      "execution_count": null,
      "metadata": {
        "id": "deoUdd2Sdws6"
      },
      "outputs": [],
      "source": [
        "model.save(\"Brain_Tumor_Image_Classification_Model.h5\")"
      ]
    },
    {
      "cell_type": "code",
      "execution_count": null,
      "metadata": {
        "id": "880cLZtTiwU2"
      },
      "outputs": [],
      "source": [
        "acc = hist.history['accuracy']\n",
        "val_acc = hist.history['val_accuracy'] "
      ]
    },
    {
      "cell_type": "code",
      "execution_count": null,
      "metadata": {
        "colab": {
          "base_uri": "https://localhost:8080/"
        },
        "id": "T_qdCZiniywx",
        "outputId": "f1b0e1e5-40a7-43ef-a20a-6c47d8b99a5d"
      },
      "outputs": [
        {
          "data": {
            "text/plain": [
              "([0.24842767417430878,\n",
              "  0.3270440399646759,\n",
              "  0.42138364911079407,\n",
              "  0.44025155901908875,\n",
              "  0.5,\n",
              "  0.5691823959350586,\n",
              "  0.5786163806915283,\n",
              "  0.6352201104164124,\n",
              "  0.6823899149894714,\n",
              "  0.6761006116867065,\n",
              "  0.698113203048706,\n",
              "  0.7295597195625305,\n",
              "  0.7798742055892944,\n",
              "  0.795597493648529,\n",
              "  0.8144654035568237,\n",
              "  0.849056601524353,\n",
              "  0.8584905862808228,\n",
              "  0.8899371027946472,\n",
              "  0.8616352081298828,\n",
              "  0.8081761002540588],\n",
              " [0.25,\n",
              "  0.1388888955116272,\n",
              "  0.3055555522441864,\n",
              "  0.3611111044883728,\n",
              "  0.3055555522441864,\n",
              "  0.2777777910232544,\n",
              "  0.3888888955116272,\n",
              "  0.4722222089767456,\n",
              "  0.4722222089767456,\n",
              "  0.2777777910232544,\n",
              "  0.2222222238779068,\n",
              "  0.25,\n",
              "  0.2777777910232544,\n",
              "  0.4166666567325592,\n",
              "  0.25,\n",
              "  0.3888888955116272,\n",
              "  0.3611111044883728,\n",
              "  0.5,\n",
              "  0.5,\n",
              "  0.4444444477558136])"
            ]
          },
          "execution_count": 60,
          "metadata": {},
          "output_type": "execute_result"
        }
      ],
      "source": [
        "acc, val_acc"
      ]
    },
    {
      "cell_type": "code",
      "execution_count": null,
      "metadata": {
        "id": "6wEQaJyvi1i8"
      },
      "outputs": [],
      "source": [
        "import matplotlib.pyplot as plt\n",
        "import seaborn as sns"
      ]
    },
    {
      "cell_type": "code",
      "execution_count": null,
      "metadata": {
        "colab": {
          "base_uri": "https://localhost:8080/",
          "height": 428
        },
        "id": "PBJd2Rj9i-TR",
        "outputId": "c7bd50bd-c084-4e23-898d-4a444603ac38"
      },
      "outputs": [
        {
          "data": {
            "image/png": "[encoded data removed]",
            "text/plain": [
              "<Figure size 1008x504 with 1 Axes>"
            ]
          },
          "metadata": {},
          "output_type": "display_data"
        }
      ],
      "source": [
        "epochs = range(len(acc))\n",
        "fig = plt.figure(figsize = (14,7))\n",
        "plt.plot(epochs, acc, 'r', label = 'Training Accuracy')\n",
        "plt.plot(epochs, val_acc, 'b', label = 'Validation Accuracy')\n",
        "plt.legend(loc = 'upper left')\n",
        "plt.show()"
      ]
    },
    {
      "cell_type": "code",
      "execution_count": null,
      "metadata": {
        "colab": {
          "base_uri": "https://localhost:8080/",
          "height": 428
        },
        "id": "uz-l1tIDjCcB",
        "outputId": "24442119-ec07-4155-baff-a0104d49e20e"
      },
      "outputs": [
        {
          "data": {
            "image/png": "[encoded data removed]",
            "text/plain": [
              "<Figure size 1008x504 with 1 Axes>"
            ]
          },
          "metadata": {},
          "output_type": "display_data"
        }
      ],
      "source": [
        "loss = hist.history['loss']\n",
        "val_loss = hist.history['val_loss'] \n",
        "\n",
        "epochs = range(len(acc))\n",
        "fig = plt.figure(figsize = (14,7))\n",
        "plt.plot(epochs, loss, 'r', label = 'Training Loss')\n",
        "plt.plot(epochs, val_loss, 'b', label = 'Validation Loss')\n",
        "plt.legend(loc = 'upper left')\n",
        "plt.show()"
      ]
    },
    {
      "cell_type": "code",
      "execution_count": null,
      "metadata": {
        "colab": {
          "base_uri": "https://localhost:8080/"
        },
        "id": "QHycGzRUjFq0",
        "outputId": "523f45dd-f2ee-4e3f-b9d6-a938baf50cd0"
      },
      "outputs": [
        {
          "data": {
            "text/plain": [
              "(150, 150, 3)"
            ]
          },
          "execution_count": 64,
          "metadata": {},
          "output_type": "execute_result"
        }
      ],
      "source": [
        "img_path = '/content/gdrive/My Drive/brainTumor/Testing/glioma_tumor/image(5).jpg'\n",
        "img = cv2.imread(img_path)\n",
        "img = cv2.resize(img, (150, 150))\n",
        "img_array = np.array(img)\n",
        "\n",
        "img_array.shape"
      ]
    },
    {
      "cell_type": "code",
      "execution_count": null,
      "metadata": {
        "colab": {
          "base_uri": "https://localhost:8080/"
        },
        "id": "oz9Zo2l_j_Ls",
        "outputId": "928d894e-6607-4725-ba75-87078985c703"
      },
      "outputs": [
        {
          "data": {
            "text/plain": [
              "(1, 150, 150, 3)"
            ]
          },
          "execution_count": 65,
          "metadata": {},
          "output_type": "execute_result"
        }
      ],
      "source": [
        "img_array = img_array.reshape(1,150,150,3)\n",
        "img_array.shape"
      ]
    },
    {
      "cell_type": "code",
      "execution_count": null,
      "metadata": {
        "id": "IA-9XxTfkDbb"
      },
      "outputs": [],
      "source": [
        "from tensorflow.keras.preprocessing import image"
      ]
    },
    {
      "cell_type": "code",
      "execution_count": null,
      "metadata": {
        "colab": {
          "base_uri": "https://localhost:8080/",
          "height": 269
        },
        "id": "NDs6o6MrkGfs",
        "outputId": "3feb4702-38d9-4211-9297-06fd3242fbfc"
      },
      "outputs": [
        {
          "data": {
            "image/png": "[encoded data removed]",
            "text/plain": [
              "<Figure size 432x288 with 1 Axes>"
            ]
          },
          "metadata": {},
          "output_type": "display_data"
        }
      ],
      "source": [
        "img = image.load_img(img_path)\n",
        "plt.imshow(img, interpolation = 'nearest')\n",
        "plt.show()"
      ]
    },
    {
      "cell_type": "code",
      "execution_count": null,
      "metadata": {
        "colab": {
          "base_uri": "https://localhost:8080/"
        },
        "id": "j_U6tbrBkJMx",
        "outputId": "e8f3c040-66c4-4504-dfeb-2925e603d286"
      },
      "outputs": [
        {
          "name": "stdout",
          "output_type": "stream",
          "text": [
            "1/1 [==============================] - 0s 269ms/step\n",
            "[[0.04154016 0.0497205  0.89938635 0.00935298]]\n"
          ]
        }
      ],
      "source": [
        "a = model.predict(img_array)\n",
        "print(a)"
      ]
    },
    {
      "cell_type": "code",
      "execution_count": null,
      "metadata": {
        "colab": {
          "base_uri": "https://localhost:8080/"
        },
        "id": "P71dgVRTkNQr",
        "outputId": "fa6f533a-d5a5-4f8b-fdd5-c0f06a1cb342"
      },
      "outputs": [
        {
          "data": {
            "text/plain": [
              "2"
            ]
          },
          "execution_count": 69,
          "metadata": {},
          "output_type": "execute_result"
        }
      ],
      "source": [
        "indices = a.argmax()\n",
        "indices"
      ]
    },
    {
      "cell_type": "code",
      "execution_count": null,
      "metadata": {
        "colab": {
          "base_uri": "https://localhost:8080/",
          "height": 35
        },
        "id": "3vq4X0-7kQ8l",
        "outputId": "3b90a2a6-a308-461f-8d72-82382b0f9111"
      },
      "outputs": [
        {
          "data": {
            "application/vnd.google.colaboratory.intrinsic+json": {
              "type": "string"
            },
            "text/plain": [
              "'no_tumor'"
            ]
          },
          "execution_count": 70,
          "metadata": {},
          "output_type": "execute_result"
        }
      ],
      "source": [
        "labels[indices]"
      ]
    },
    {
      "cell_type": "code",
      "execution_count": null,
      "metadata": {
        "id": "MpCBqcixkUAT"
      },
      "outputs": [],
      "source": []
    }
  ],
  "metadata": {
    "colab": {
      "provenance": [],
      "authorship_tag": "ABX9TyPnpapnK0qk7ivQCBCXKVDp",
      "include_colab_link": true
    },
    "gpuClass": "standard",
    "kernelspec": {
      "display_name": "Python 3",
      "name": "python3"
    },
    "language_info": {
      "name": "python"
    }
  },
  "nbformat": 4,
  "nbformat_minor": 0
}